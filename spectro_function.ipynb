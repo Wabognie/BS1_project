{
 "cells": [
  {
   "cell_type": "code",
   "execution_count": 15,
   "metadata": {},
   "outputs": [],
   "source": [
    "import numpy as np\n",
    "import matplotlib.pyplot as plt\n",
    "import random\n",
    "\n",
    "from progress.bar import Bar\n",
    "import statsmodels\n",
    "from statsmodels.graphics.tsaplots import plot_acf\n",
    "\n",
    "import collections\n",
    "import numpy.fft as fft\n",
    "import collections\n",
    "from scipy.signal import find_peaks, spectrogram, stft\n",
    "from scipy.fft import fftshift\n",
    "from matplotlib.colors import LogNorm"
   ]
  },
  {
   "cell_type": "markdown",
   "metadata": {},
   "source": [
    "# Spectrogram"
   ]
  },
  {
   "cell_type": "code",
   "execution_count": 16,
   "metadata": {},
   "outputs": [],
   "source": [
    "def simulation_Q(Q):\n",
    "    \n",
    "    nCell = 100\n",
    "    ##constantes\n",
    "    n = 2\n",
    "    alpha = 111\n",
    "    kappa = 20\n",
    "    k_s0 = 1\n",
    "    k_s1 = 0.01\n",
    "    t = 3000 # pour réduire le temps de calcul\n",
    "    eta = 2.0\n",
    "\n",
    "    D = 0.04\n",
    "\n",
    "    beta = []\n",
    "    for i in range(nCell):\n",
    "        beta.append(random.gauss(1,0.05))\n",
    "    tau = 0.04 ##a voir\n",
    "\n",
    "    ##initialisation des matrices\n",
    "    a = np.zeros((nCell, t))\n",
    "    bQ1 = np.zeros((nCell, t))\n",
    "    c = np.zeros((nCell, t))\n",
    "\n",
    "    A = np.zeros((nCell, t))\n",
    "    B = np.zeros((nCell, t))\n",
    "    C = np.zeros((nCell, t))\n",
    "\n",
    "    S = np.zeros((nCell, t))\n",
    "    Se = np.zeros((nCell, t))\n",
    "\n",
    "    a[:,0] = 0\n",
    "    bQ1[:,0] = 50\n",
    "    c[:,0] = 0\n",
    "\n",
    "    A[:,0] = 0\n",
    "    B[:,0] = 0\n",
    "    C[:,0] = 0\n",
    "\n",
    "    S[:,0] = 0\n",
    "    Se[:,0] = 0\n",
    "\n",
    "    time = np.arange(0,t)\n",
    "\n",
    "    for j in range(0, t-1):\n",
    "        for i in range(0, nCell):\n",
    "            xi = random.gauss(0, D)\n",
    "            betabis = beta[i] + (xi*tau)\n",
    "\n",
    "            Se[i, j] = Q * np.mean(S[:, j])\n",
    "\n",
    "            abis = a[i, j] + tau / 2 * (-a[i, j] + (alpha / (1 + C[i, j] ** n)))\n",
    "            bbis = bQ1[i, j] + tau / 2 * (-bQ1[i, j] + (alpha / (1 + A[i, j] ** n)))\n",
    "            cbis = c[i, j] + tau / 2 * (-c[i, j] + (alpha / (1 + B[i, j] ** n)) + (kappa * S[i, j] / 1 + S[i, j]))\n",
    "\n",
    "            Abis = A[i, j] + tau / 2 * (betabis * (a[i, j] - A[i, j]))\n",
    "            Bbis = B[i, j] + tau / 2 * (betabis * (bQ1[i, j] - B[i, j]))\n",
    "            Cbis = C[i, j] + tau / 2 * (betabis * (c[i, j] - C[i, j]))\n",
    "\n",
    "            Sbis = S[i, j] + tau / 2 * ((-k_s0 * S[i, j]) + (k_s1 * A[i, j]) - (eta * (S[i, j] - Se[i, j])))\n",
    "\n",
    "            a[i, j + 1] = a[i, j] + tau * (-abis + (alpha / (1 + Cbis ** n)))\n",
    "            bQ1[i, j + 1] = bQ1[i, j] + tau * (-bbis + (alpha / (1 + Abis ** n)))\n",
    "            c[i, j + 1] = c[i, j] + tau * (-cbis + (alpha / (1 + Bbis ** n)) + (kappa * Sbis / 1 + Sbis))\n",
    "\n",
    "            A[i, j + 1] = A[i, j] + tau * (betabis * (abis - Abis))\n",
    "            B[i, j + 1] = B[i, j] + tau * (betabis * (bbis - Bbis))\n",
    "            C[i, j + 1] = C[i, j] + tau * (betabis * (cbis - Cbis))\n",
    "\n",
    "            S[i, j + 1] = S[i, j] + tau * ((-k_s0 * Sbis) + (k_s1 * Abis) - (eta * (Sbis - Se[i, j])))\n",
    "            \n",
    "    btotQ1 = []\n",
    "    for i in range(0, t):\n",
    "        binter = 0\n",
    "        for j in range(nCell):\n",
    "            binter += bQ1[j,i]\n",
    "        btotQ1.append(binter/nCell)\n",
    "\n",
    "    #Centralisation de btot et b1\n",
    "    btotQ1norm = (btotQ1 - (max(btotQ1)/2))/(max(btotQ1)/2)\n",
    "    b1Q1norm = (bQ1[1, :] - (max(bQ1[1, :])/2))/(max(bQ1[1, :])/2)\n",
    "\n",
    "    #Autocorrelation des valeurs : calcul la somme des multiplications des valeurs aux temps avec un décallage (b(t) * b(t+i))\n",
    "    testAutocorrelQ1 = np.correlate(b1Q1norm, b1Q1norm, mode=\"full\")\n",
    "    testAutocorrelQ1 = testAutocorrelQ1[len(testAutocorrelQ1)//2:]\n",
    "\n",
    "    #soustraction de la moyenne des valeurs à toutes les valeurs :\n",
    "    averageautocorr = sum(testAutocorrelQ1)/len(testAutocorrelQ1)\n",
    "    testAutocorrelQ1 = testAutocorrelQ1 - averageautocorr\n",
    "    \n",
    "    fourierQ1 = np.fft.fft(testAutocorrelQ1)\n",
    "    freqfour1=np.fft.fftfreq(len(testAutocorrelQ1),d=tau)\n",
    "        \n",
    "    return fourierQ1\n",
    "    #return freqfour1"
   ]
  },
  {
   "cell_type": "code",
   "execution_count": 17,
   "metadata": {},
   "outputs": [
    {
     "data": {
      "text/plain": [
       "array([-7.88588750e-10     +0.j        ,  4.42261776e+03-277535.83875303j,\n",
       "        4.35434428e+03-128007.96991853j, ...,\n",
       "        4.28277934e+03 +71461.70523916j,  4.35434428e+03+128007.96991853j,\n",
       "        4.42261776e+03+277535.83875303j])"
      ]
     },
     "execution_count": 17,
     "metadata": {},
     "output_type": "execute_result"
    }
   ],
   "source": [
    "simulation_Q(0)"
   ]
  },
  {
   "cell_type": "code",
   "execution_count": 18,
   "metadata": {},
   "outputs": [
    {
     "data": {
      "text/plain": [
       "array([-1.60832769e-09     +0.j        ,  3.30278507e+03-249142.00394769j,\n",
       "        3.27741366e+03-117419.75765515j, ...,\n",
       "        3.18495449e+03 +68869.69202318j,  3.27741366e+03+117419.75765515j,\n",
       "        3.30278507e+03+249142.00394769j])"
      ]
     },
     "execution_count": 18,
     "metadata": {},
     "output_type": "execute_result"
    }
   ],
   "source": [
    "simulation_Q(1)"
   ]
  },
  {
   "cell_type": "code",
   "execution_count": 13,
   "metadata": {},
   "outputs": [],
   "source": [
    "list_four0 = []\n",
    "\n",
    "for i in range(1,30):\n",
    "    list_four0.append(simulation_Q(0))\n",
    "    #plt.specgram(simulation_Q(0))\n",
    "\n",
    "#print(list_four)"
   ]
  },
  {
   "cell_type": "code",
   "execution_count": 20,
   "metadata": {},
   "outputs": [
    {
     "name": "stderr",
     "output_type": "stream",
     "text": [
      "/home/kevin/.local/lib/python3.7/site-packages/ipykernel_launcher.py:1: UserWarning: Only one segment is calculated since parameter NFFT (=256) >= signal length (=29).\n",
      "  \"\"\"Entry point for launching an IPython kernel.\n"
     ]
    },
    {
     "data": {
      "text/plain": [
       "<matplotlib.colorbar.Colorbar at 0x7f7858e66a50>"
      ]
     },
     "execution_count": 20,
     "metadata": {},
     "output_type": "execute_result"
    },
    {
     "data": {
      "image/png": "[encoded data removed]",
      "text/plain": [
       "<Figure size 432x288 with 2 Axes>"
      ]
     },
     "metadata": {
      "needs_background": "light"
     },
     "output_type": "display_data"
    }
   ],
   "source": [
    "plt.specgram(list_four0, sides='onesided')\n",
    "plt.xlabel('oscillator')\n",
    "plt.colorbar()\n",
    "#plt.yscale('log')"
   ]
  },
  {
   "cell_type": "code",
   "execution_count": 21,
   "metadata": {},
   "outputs": [],
   "source": [
    "list_four1 = []\n",
    "\n",
    "for i in range(1,30):\n",
    "    list_four1.append(simulation_Q(0))\n",
    "    #plt.specgram(simulation_Q(0))"
   ]
  },
  {
   "cell_type": "code",
   "execution_count": 24,
   "metadata": {},
   "outputs": [
    {
     "name": "stderr",
     "output_type": "stream",
     "text": [
      "/home/kevin/.local/lib/python3.7/site-packages/ipykernel_launcher.py:1: UserWarning: Only one segment is calculated since parameter NFFT (=256) >= signal length (=29).\n",
      "  \"\"\"Entry point for launching an IPython kernel.\n"
     ]
    },
    {
     "data": {
      "text/plain": [
       "Text(0.5, 0, 'oscillator')"
      ]
     },
     "execution_count": 24,
     "metadata": {},
     "output_type": "execute_result"
    },
    {
     "data": {
      "image/png": "[encoded data removed]",
      "text/plain": [
       "<Figure size 432x288 with 1 Axes>"
      ]
     },
     "metadata": {
      "needs_background": "light"
     },
     "output_type": "display_data"
    }
   ],
   "source": [
    "plt.specgram(list_four1, sides='onesided')\n",
    "plt.xlabel('oscillator')\n",
    "#plt.yscale('log')"
   ]
  },
  {
   "cell_type": "code",
   "execution_count": null,
   "metadata": {},
   "outputs": [],
   "source": []
  },
  {
   "cell_type": "code",
   "execution_count": null,
   "metadata": {},
   "outputs": [],
   "source": []
  },
  {
   "cell_type": "code",
   "execution_count": null,
   "metadata": {},
   "outputs": [],
   "source": []
  }
 ],
 "metadata": {
  "kernelspec": {
   "display_name": "Python 3",
   "language": "python",
   "name": "python3"
  },
  "language_info": {
   "codemirror_mode": {
    "name": "ipython",
    "version": 3
   },
   "file_extension": ".py",
   "mimetype": "text/x-python",
   "name": "python",
   "nbconvert_exporter": "python",
   "pygments_lexer": "ipython3",
   "version": "3.7.9"
  }
 },
 "nbformat": 4,
 "nbformat_minor": 4
}
